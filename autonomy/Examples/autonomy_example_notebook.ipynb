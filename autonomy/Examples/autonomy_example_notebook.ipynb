{
 "cells": [
  {
   "cell_type": "code",
   "execution_count": 1,
   "id": "3a0804ac",
   "metadata": {},
   "outputs": [
    {
     "name": "stdout",
     "output_type": "stream",
     "text": [
      "\n",
      "Welcome to autonomy!\n",
      "To report issues, please send an email to albantakis@wisc.edu.\n",
      "\n"
     ]
    }
   ],
   "source": [
    "import autonomy\n",
    "import matplotlib.pyplot as plt\n",
    "from autonomy.agent import Agent"
   ]
  },
  {
   "cell_type": "code",
   "execution_count": 9,
   "id": "9e14b885-8076-4bd2-9803-c90017ad82b6",
   "metadata": {},
   "outputs": [
    {
     "name": "stdout",
     "output_type": "stream",
     "text": [
      "/Users/will/projects/autonomy/autonomy/examples/A2_C0___28_149.json\n"
     ]
    },
    {
     "data": {
      "text/plain": [
       "Agent(\n",
       "  {'n_nodes': 11,\n",
       "   'n_sensors': 4,\n",
       "   'n_hidden': 4,\n",
       "   'n_motors': 3,\n",
       "   'sensor_ixs': [4, 5, 6, 7],\n",
       "   'hidden_ixs': [0, 1, 2, 3],\n",
       "   'motor_ixs': [8, 9, 10],\n",
       "   'cm': [[0, 1, 1, 0, 0, 0, 0, 0, 1, 1, 0],\n",
       "          [0, 0, 0, 1, 0, 0, 0, 0, 0, 1, 0],\n",
       "          [1, 1, 1, 0, 0, 0, 0, 0, 1, 0, 1],\n",
       "          [0, 0, 0, 1, 0, 0, 0, 0, 1, 1, 0],\n",
       "          [1, 0, 0, 0, 0, 0, 0, 0, 0, 0, 1],\n",
       "          [0, 0, 1, 0, 0, 0, 0, 0, 1, 0, 0],\n",
       "          [0, 0, 0, 1, 0, 0, 0, 0, 0, 1, 0],\n",
       "          [0, 0, 0, 0, 0, 0, 0, 0, 1, 1, 0],\n",
       "          [0, 0, 0, 0, 0, 0, 0, 0, 0, 0, 0],\n",
       "          [0, 0, 0, 0, 0, 0, 0, 0, 0, 0, 0],\n",
       "          [0, 0, 0, 0, 0, 0, 0, 0, 0, 0, 0]]})"
      ]
     },
     "execution_count": 9,
     "metadata": {},
     "output_type": "execute_result"
    }
   ],
   "source": [
    "Agent.load_example_agent()"
   ]
  },
  {
   "cell_type": "code",
   "execution_count": 10,
   "id": "3bbef544",
   "metadata": {},
   "outputs": [
    {
     "name": "stdout",
     "output_type": "stream",
     "text": [
      "/Users/will/projects/autonomy/autonomy/examples/A2_C0___28_149.json\n"
     ]
    }
   ],
   "source": [
    "agent = Agent.load_example_agent()"
   ]
  },
  {
   "cell_type": "code",
   "execution_count": 11,
   "id": "65c80ab4",
   "metadata": {},
   "outputs": [
    {
     "data": {
      "text/html": [
       "<div>\n",
       "<style scoped>\n",
       "    .dataframe tbody tr th:only-of-type {\n",
       "        vertical-align: middle;\n",
       "    }\n",
       "\n",
       "    .dataframe tbody tr th {\n",
       "        vertical-align: top;\n",
       "    }\n",
       "\n",
       "    .dataframe thead th {\n",
       "        text-align: right;\n",
       "    }\n",
       "</style>\n",
       "<table border=\"1\" class=\"dataframe\">\n",
       "  <thead>\n",
       "    <tr style=\"text-align: right;\">\n",
       "      <th></th>\n",
       "      <th>cN</th>\n",
       "      <th>cS</th>\n",
       "      <th>cH</th>\n",
       "      <th>cM</th>\n",
       "      <th>s_m</th>\n",
       "      <th>s_h</th>\n",
       "      <th>h_h</th>\n",
       "      <th>h_m</th>\n",
       "      <th>len_LSCC</th>\n",
       "      <th>len_LWCC</th>\n",
       "      <th>flow_hierarchy</th>\n",
       "      <th>av_betweenness_centrality</th>\n",
       "      <th>av_degree_centrality</th>\n",
       "    </tr>\n",
       "  </thead>\n",
       "  <tbody>\n",
       "    <tr>\n",
       "      <th>1</th>\n",
       "      <td>11</td>\n",
       "      <td>4</td>\n",
       "      <td>4</td>\n",
       "      <td>3</td>\n",
       "      <td>5</td>\n",
       "      <td>3</td>\n",
       "      <td>7</td>\n",
       "      <td>7</td>\n",
       "      <td>2</td>\n",
       "      <td>11</td>\n",
       "      <td>0.818182</td>\n",
       "      <td>0.052778</td>\n",
       "      <td>0.4</td>\n",
       "    </tr>\n",
       "  </tbody>\n",
       "</table>\n",
       "</div>"
      ],
      "text/plain": [
       "   cN  cS  cH  cM  s_m  s_h  h_h  h_m  len_LSCC  len_LWCC  flow_hierarchy  \\\n",
       "1  11   4   4   3    5    3    7    7         2        11        0.818182   \n",
       "\n",
       "   av_betweenness_centrality  av_degree_centrality  \n",
       "1                   0.052778                   0.4  "
      ]
     },
     "execution_count": 11,
     "metadata": {},
     "output_type": "execute_result"
    }
   ],
   "source": [
    "agent.structural_analysis"
   ]
  },
  {
   "cell_type": "code",
   "execution_count": 12,
   "id": "18e9ec8c",
   "metadata": {},
   "outputs": [
    {
     "data": {
      "text/html": [
       "<div>\n",
       "<style scoped>\n",
       "    .dataframe tbody tr th:only-of-type {\n",
       "        vertical-align: middle;\n",
       "    }\n",
       "\n",
       "    .dataframe tbody tr th {\n",
       "        vertical-align: top;\n",
       "    }\n",
       "\n",
       "    .dataframe thead th {\n",
       "        text-align: right;\n",
       "    }\n",
       "</style>\n",
       "<table border=\"1\" class=\"dataframe\">\n",
       "  <thead>\n",
       "    <tr style=\"text-align: right;\">\n",
       "      <th></th>\n",
       "      <th>cN</th>\n",
       "      <th>cS</th>\n",
       "      <th>cH</th>\n",
       "      <th>cM</th>\n",
       "      <th>s_m</th>\n",
       "      <th>s_h</th>\n",
       "      <th>h_h</th>\n",
       "      <th>h_m</th>\n",
       "      <th>len_LSCC</th>\n",
       "      <th>len_LWCC</th>\n",
       "      <th>flow_hierarchy</th>\n",
       "      <th>av_betweenness_centrality</th>\n",
       "      <th>av_degree_centrality</th>\n",
       "    </tr>\n",
       "  </thead>\n",
       "  <tbody>\n",
       "    <tr>\n",
       "      <th>1</th>\n",
       "      <td>11</td>\n",
       "      <td>4</td>\n",
       "      <td>4</td>\n",
       "      <td>3</td>\n",
       "      <td>5</td>\n",
       "      <td>3</td>\n",
       "      <td>7</td>\n",
       "      <td>7</td>\n",
       "      <td>2</td>\n",
       "      <td>11</td>\n",
       "      <td>0.818182</td>\n",
       "      <td>0.052778</td>\n",
       "      <td>0.4</td>\n",
       "    </tr>\n",
       "  </tbody>\n",
       "</table>\n",
       "</div>"
      ],
      "text/plain": [
       "   cN  cS  cH  cM  s_m  s_h  h_h  h_m  len_LSCC  len_LWCC  flow_hierarchy  \\\n",
       "1  11   4   4   3    5    3    7    7         2        11        0.818182   \n",
       "\n",
       "   av_betweenness_centrality  av_degree_centrality  \n",
       "1                   0.052778                   0.4  "
      ]
     },
     "execution_count": 12,
     "metadata": {},
     "output_type": "execute_result"
    }
   ],
   "source": [
    "autonomy.structural_agent_analysis.fullStructuralAnalysis(agent)"
   ]
  },
  {
   "cell_type": "code",
   "execution_count": null,
   "id": "3f5ac25d",
   "metadata": {},
   "outputs": [],
   "source": [
    "# this takes ~10s\n",
    "autonomy.information_agent_analysis.A_m_sensors(agent, n_t = 6)"
   ]
  },
  {
   "cell_type": "code",
   "execution_count": null,
   "id": "9a876750",
   "metadata": {},
   "outputs": [],
   "source": [
    "autonomy.plotting.plot_animat_brain(agent)"
   ]
  }
 ],
 "metadata": {
  "kernelspec": {
   "display_name": "Python 3 (ipykernel)",
   "language": "python",
   "name": "python3"
  },
  "language_info": {
   "codemirror_mode": {
    "name": "ipython",
    "version": 3
   },
   "file_extension": ".py",
   "mimetype": "text/x-python",
   "name": "python",
   "nbconvert_exporter": "python",
   "pygments_lexer": "ipython3",
   "version": "3.9.6"
  }
 },
 "nbformat": 4,
 "nbformat_minor": 5
}
